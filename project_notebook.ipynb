{
 "cells": [
  {
   "cell_type": "code",
   "execution_count": 1,
   "metadata": {},
   "outputs": [],
   "source": [
    "# pip install pandas\n",
    "# pip install openpyxl\n",
    "# pip install mlxtend\n",
    "\n",
    "import pandas as pd\n",
    "from mlxtend.frequent_patterns import fpgrowth"
   ]
  },
  {
   "cell_type": "code",
   "execution_count": 5,
   "metadata": {},
   "outputs": [
    {
     "data": {
      "text/plain": [
       "(25321, 50)"
      ]
     },
     "execution_count": 5,
     "metadata": {},
     "output_type": "execute_result"
    }
   ],
   "source": [
    "# url = \"https://open.alberta.ca/dataset/a221e7a0-4f46-4be7-9c5a-e29de9a3447e/resource/80480824-0c50-456c-9723-f9d4fc136141/download/fp-historical-wildfire-data-2006-2023.xlsx\"\n",
    "\n",
    "# data = pd.read_excel(url)\n",
    "\n",
    "data = pd.read_excel('fp-historical-wildfire-data-2006-2023.xlsx')\n",
    "data.shape"
   ]
  },
  {
   "cell_type": "code",
   "execution_count": 4,
   "metadata": {},
   "outputs": [
    {
     "data": {
      "text/html": [
       "<div>\n",
       "<style scoped>\n",
       "    .dataframe tbody tr th:only-of-type {\n",
       "        vertical-align: middle;\n",
       "    }\n",
       "\n",
       "    .dataframe tbody tr th {\n",
       "        vertical-align: top;\n",
       "    }\n",
       "\n",
       "    .dataframe thead th {\n",
       "        text-align: right;\n",
       "    }\n",
       "</style>\n",
       "<table border=\"1\" class=\"dataframe\">\n",
       "  <thead>\n",
       "    <tr style=\"text-align: right;\">\n",
       "      <th></th>\n",
       "      <th>fire_year</th>\n",
       "      <th>fire_number</th>\n",
       "      <th>fire_name</th>\n",
       "      <th>current_size</th>\n",
       "      <th>size_class</th>\n",
       "      <th>fire_location_latitude</th>\n",
       "      <th>fire_location_longitude</th>\n",
       "      <th>fire_origin</th>\n",
       "      <th>general_cause_desc</th>\n",
       "      <th>industry_identifier_desc</th>\n",
       "      <th>...</th>\n",
       "      <th>distance_from_water_source</th>\n",
       "      <th>first_bucket_drop_date</th>\n",
       "      <th>bh_fs_date</th>\n",
       "      <th>bh_hectares</th>\n",
       "      <th>uc_fs_date</th>\n",
       "      <th>uc_hectares</th>\n",
       "      <th>to_fs_date</th>\n",
       "      <th>to_hectares</th>\n",
       "      <th>ex_fs_date</th>\n",
       "      <th>ex_hectares</th>\n",
       "    </tr>\n",
       "  </thead>\n",
       "  <tbody>\n",
       "    <tr>\n",
       "      <th>0</th>\n",
       "      <td>2006</td>\n",
       "      <td>PWF001</td>\n",
       "      <td>NaN</td>\n",
       "      <td>0.10</td>\n",
       "      <td>A</td>\n",
       "      <td>56.249956</td>\n",
       "      <td>-117.181960</td>\n",
       "      <td>Private Land</td>\n",
       "      <td>Resident</td>\n",
       "      <td>NaN</td>\n",
       "      <td>...</td>\n",
       "      <td>NaN</td>\n",
       "      <td>NaN</td>\n",
       "      <td>2006-04-02 22:00:00</td>\n",
       "      <td>0.01</td>\n",
       "      <td>2006-04-02 22:00:00</td>\n",
       "      <td>0.01</td>\n",
       "      <td>NaN</td>\n",
       "      <td>NaN</td>\n",
       "      <td>2006-04-03 10:20:00</td>\n",
       "      <td>0.10</td>\n",
       "    </tr>\n",
       "    <tr>\n",
       "      <th>1</th>\n",
       "      <td>2006</td>\n",
       "      <td>EWF002</td>\n",
       "      <td>NaN</td>\n",
       "      <td>0.20</td>\n",
       "      <td>B</td>\n",
       "      <td>53.606367</td>\n",
       "      <td>-115.915733</td>\n",
       "      <td>Provincial Land</td>\n",
       "      <td>Incendiary</td>\n",
       "      <td>NaN</td>\n",
       "      <td>...</td>\n",
       "      <td>NaN</td>\n",
       "      <td>NaN</td>\n",
       "      <td>2006-04-03 13:20:00</td>\n",
       "      <td>0.20</td>\n",
       "      <td>2006-04-03 13:20:00</td>\n",
       "      <td>0.20</td>\n",
       "      <td>NaN</td>\n",
       "      <td>NaN</td>\n",
       "      <td>2006-04-03 14:00:00</td>\n",
       "      <td>0.20</td>\n",
       "    </tr>\n",
       "    <tr>\n",
       "      <th>2</th>\n",
       "      <td>2006</td>\n",
       "      <td>EWF001</td>\n",
       "      <td>NaN</td>\n",
       "      <td>0.50</td>\n",
       "      <td>B</td>\n",
       "      <td>53.610933</td>\n",
       "      <td>-115.594267</td>\n",
       "      <td>Provincial Land</td>\n",
       "      <td>Incendiary</td>\n",
       "      <td>NaN</td>\n",
       "      <td>...</td>\n",
       "      <td>NaN</td>\n",
       "      <td>NaN</td>\n",
       "      <td>2006-04-03 13:23:00</td>\n",
       "      <td>0.50</td>\n",
       "      <td>2006-04-03 13:23:00</td>\n",
       "      <td>0.50</td>\n",
       "      <td>NaN</td>\n",
       "      <td>NaN</td>\n",
       "      <td>2006-04-03 15:00:00</td>\n",
       "      <td>0.50</td>\n",
       "    </tr>\n",
       "    <tr>\n",
       "      <th>3</th>\n",
       "      <td>2006</td>\n",
       "      <td>EWF003</td>\n",
       "      <td>NaN</td>\n",
       "      <td>0.01</td>\n",
       "      <td>A</td>\n",
       "      <td>53.608867</td>\n",
       "      <td>-115.609467</td>\n",
       "      <td>Provincial Land</td>\n",
       "      <td>Incendiary</td>\n",
       "      <td>NaN</td>\n",
       "      <td>...</td>\n",
       "      <td>NaN</td>\n",
       "      <td>NaN</td>\n",
       "      <td>2006-04-03 14:08:00</td>\n",
       "      <td>0.01</td>\n",
       "      <td>2006-04-03 14:08:00</td>\n",
       "      <td>0.01</td>\n",
       "      <td>NaN</td>\n",
       "      <td>NaN</td>\n",
       "      <td>2006-04-03 15:05:00</td>\n",
       "      <td>0.01</td>\n",
       "    </tr>\n",
       "    <tr>\n",
       "      <th>4</th>\n",
       "      <td>2006</td>\n",
       "      <td>PWF002</td>\n",
       "      <td>NaN</td>\n",
       "      <td>0.10</td>\n",
       "      <td>A</td>\n",
       "      <td>56.249956</td>\n",
       "      <td>-117.050249</td>\n",
       "      <td>Provincial Land</td>\n",
       "      <td>Other Industry</td>\n",
       "      <td>Waste Disposal</td>\n",
       "      <td>...</td>\n",
       "      <td>NaN</td>\n",
       "      <td>NaN</td>\n",
       "      <td>2006-04-03 19:57:00</td>\n",
       "      <td>0.10</td>\n",
       "      <td>2006-04-03 20:19:00</td>\n",
       "      <td>0.10</td>\n",
       "      <td>2006-04-03 20:20:00</td>\n",
       "      <td>0.1</td>\n",
       "      <td>2006-04-05 10:18:00</td>\n",
       "      <td>0.10</td>\n",
       "    </tr>\n",
       "  </tbody>\n",
       "</table>\n",
       "<p>5 rows × 50 columns</p>\n",
       "</div>"
      ],
      "text/plain": [
       "   fire_year fire_number fire_name  current_size size_class  \\\n",
       "0       2006      PWF001       NaN          0.10          A   \n",
       "1       2006      EWF002       NaN          0.20          B   \n",
       "2       2006      EWF001       NaN          0.50          B   \n",
       "3       2006      EWF003       NaN          0.01          A   \n",
       "4       2006      PWF002       NaN          0.10          A   \n",
       "\n",
       "   fire_location_latitude  fire_location_longitude      fire_origin  \\\n",
       "0               56.249956              -117.181960     Private Land   \n",
       "1               53.606367              -115.915733  Provincial Land   \n",
       "2               53.610933              -115.594267  Provincial Land   \n",
       "3               53.608867              -115.609467  Provincial Land   \n",
       "4               56.249956              -117.050249  Provincial Land   \n",
       "\n",
       "  general_cause_desc industry_identifier_desc  ... distance_from_water_source  \\\n",
       "0           Resident                      NaN  ...                        NaN   \n",
       "1         Incendiary                      NaN  ...                        NaN   \n",
       "2         Incendiary                      NaN  ...                        NaN   \n",
       "3         Incendiary                      NaN  ...                        NaN   \n",
       "4     Other Industry           Waste Disposal  ...                        NaN   \n",
       "\n",
       "  first_bucket_drop_date           bh_fs_date bh_hectares  \\\n",
       "0                    NaN  2006-04-02 22:00:00        0.01   \n",
       "1                    NaN  2006-04-03 13:20:00        0.20   \n",
       "2                    NaN  2006-04-03 13:23:00        0.50   \n",
       "3                    NaN  2006-04-03 14:08:00        0.01   \n",
       "4                    NaN  2006-04-03 19:57:00        0.10   \n",
       "\n",
       "            uc_fs_date uc_hectares           to_fs_date  to_hectares  \\\n",
       "0  2006-04-02 22:00:00        0.01                  NaN          NaN   \n",
       "1  2006-04-03 13:20:00        0.20                  NaN          NaN   \n",
       "2  2006-04-03 13:23:00        0.50                  NaN          NaN   \n",
       "3  2006-04-03 14:08:00        0.01                  NaN          NaN   \n",
       "4  2006-04-03 20:19:00        0.10  2006-04-03 20:20:00          0.1   \n",
       "\n",
       "            ex_fs_date ex_hectares  \n",
       "0  2006-04-03 10:20:00        0.10  \n",
       "1  2006-04-03 14:00:00        0.20  \n",
       "2  2006-04-03 15:00:00        0.50  \n",
       "3  2006-04-03 15:05:00        0.01  \n",
       "4  2006-04-05 10:18:00        0.10  \n",
       "\n",
       "[5 rows x 50 columns]"
      ]
     },
     "execution_count": 4,
     "metadata": {},
     "output_type": "execute_result"
    }
   ],
   "source": [
    "data.head()"
   ]
  },
  {
   "cell_type": "code",
   "execution_count": 6,
   "metadata": {},
   "outputs": [
    {
     "data": {
      "text/plain": [
       "Index(['fire_year', 'fire_number', 'fire_name', 'current_size', 'size_class',\n",
       "       'fire_location_latitude', 'fire_location_longitude', 'fire_origin',\n",
       "       'general_cause_desc', 'industry_identifier_desc',\n",
       "       'responsible_group_desc', 'activity_class', 'true_cause',\n",
       "       'fire_start_date', 'det_agent_type', 'det_agent', 'discovered_date',\n",
       "       'discovered_size', 'reported_date', 'dispatched_resource',\n",
       "       'dispatch_date', 'start_for_fire_date', 'assessment_resource',\n",
       "       'assessment_datetime', 'assessment_hectares', 'fire_spread_rate',\n",
       "       'fire_type', 'fire_position_on_slope', 'weather_conditions_over_fire',\n",
       "       'temperature', 'relative_humidity', 'wind_direction', 'wind_speed',\n",
       "       'fuel_type', 'initial_action_by', 'ia_arrival_at_fire_date',\n",
       "       'ia_access', 'fire_fighting_start_date', 'fire_fighting_start_size',\n",
       "       'bucketing_on_fire', 'distance_from_water_source',\n",
       "       'first_bucket_drop_date', 'bh_fs_date', 'bh_hectares', 'uc_fs_date',\n",
       "       'uc_hectares', 'to_fs_date', 'to_hectares', 'ex_fs_date',\n",
       "       'ex_hectares'],\n",
       "      dtype='object')"
      ]
     },
     "execution_count": 6,
     "metadata": {},
     "output_type": "execute_result"
    }
   ],
   "source": [
    "data.columns"
   ]
  },
  {
   "cell_type": "code",
   "execution_count": 28,
   "metadata": {},
   "outputs": [],
   "source": [
    "sub_dataset_columns = [\n",
    "    'temperature',\n",
    "    'wind_speed',\n",
    "    'fire_position_on_slope',\n",
    "    'wind_direction',\n",
    "    'relative_humidity',\n",
    "    'fire_type',\n",
    "    'weather_conditions_over_fire',\n",
    "    'current_size'\n",
    "]\n",
    "\n",
    "sub_data = data[sub_dataset_columns]\n",
    "sub_data.head()"
   ]
  },
  {
   "cell_type": "code",
   "execution_count": 20,
   "metadata": {},
   "outputs": [
    {
     "name": "stdout",
     "output_type": "stream",
     "text": [
      "The column 'fuel_type' contains null or NA values.\n",
      "The column 'temperature' contains null or NA values.\n",
      "The column 'wind_speed' contains null or NA values.\n",
      "The column 'fire_position_on_slope' contains null or NA values.\n",
      "The column 'wind_direction' contains null or NA values.\n",
      "The column 'relative_humidity' contains null or NA values.\n",
      "The column 'fire_type' contains null or NA values.\n",
      "The column 'weather_conditions_over_fire' contains null or NA values.\n",
      "The column 'current_size' does not contain null or NA values.\n"
     ]
    }
   ],
   "source": [
    "for column in sub_dataset_columns:\n",
    "    if sub_data[column].isnull().any():\n",
    "        print(f\"The column '{column}' contains null or NA values.\")\n",
    "    else:\n",
    "        print(f\"The column '{column}' does not contain null or NA values.\")"
   ]
  },
  {
   "cell_type": "code",
   "execution_count": 30,
   "metadata": {},
   "outputs": [],
   "source": [
    "sub_dataset_cleaned = sub_data.dropna(subset=sub_dataset_columns)\n",
    "sub_dataset_cleaned.shape"
   ]
  },
  {
   "cell_type": "code",
   "execution_count": null,
   "metadata": {},
   "outputs": [],
   "source": []
  },
  {
   "cell_type": "code",
   "execution_count": 11,
   "metadata": {},
   "outputs": [
    {
     "name": "stderr",
     "output_type": "stream",
     "text": [
      "C:\\Users\\admin\\AppData\\Roaming\\Python\\Python310\\site-packages\\mlxtend\\frequent_patterns\\fpcommon.py:109: DeprecationWarning: DataFrames with non-bool types result in worse computationalperformance and their support might be discontinued in the future.Please use a DataFrame with bool type\n",
      "  warnings.warn(\n"
     ]
    },
    {
     "ename": "ValueError",
     "evalue": "The allowed values for a DataFrame are True, False, 0, 1. Found value 2006",
     "output_type": "error",
     "traceback": [
      "\u001b[1;31m---------------------------------------------------------------------------\u001b[0m",
      "\u001b[1;31mValueError\u001b[0m                                Traceback (most recent call last)",
      "Input \u001b[1;32mIn [11]\u001b[0m, in \u001b[0;36m<cell line: 1>\u001b[1;34m()\u001b[0m\n\u001b[1;32m----> 1\u001b[0m frequent_itemsets \u001b[38;5;241m=\u001b[39m \u001b[43mfpgrowth\u001b[49m\u001b[43m(\u001b[49m\u001b[43mdata\u001b[49m\u001b[43m,\u001b[49m\u001b[43m \u001b[49m\u001b[43mmin_support\u001b[49m\u001b[38;5;241;43m=\u001b[39;49m\u001b[38;5;241;43m0.6\u001b[39;49m\u001b[43m,\u001b[49m\u001b[43m \u001b[49m\u001b[43muse_colnames\u001b[49m\u001b[38;5;241;43m=\u001b[39;49m\u001b[38;5;28;43;01mTrue\u001b[39;49;00m\u001b[43m)\u001b[49m\n\u001b[0;32m      3\u001b[0m frequent_itemsets[\u001b[38;5;124m'\u001b[39m\u001b[38;5;124msupport\u001b[39m\u001b[38;5;124m'\u001b[39m] \u001b[38;5;241m=\u001b[39m frequent_itemsets[\u001b[38;5;124m'\u001b[39m\u001b[38;5;124msupport\u001b[39m\u001b[38;5;124m'\u001b[39m]\u001b[38;5;241m.\u001b[39mround(\u001b[38;5;241m2\u001b[39m)\n\u001b[0;32m      5\u001b[0m frequent_itemsets\n",
      "File \u001b[1;32m~\\AppData\\Roaming\\Python\\Python310\\site-packages\\mlxtend\\frequent_patterns\\fpgrowth.py:73\u001b[0m, in \u001b[0;36mfpgrowth\u001b[1;34m(df, min_support, use_colnames, max_len, verbose)\u001b[0m\n\u001b[0;32m     12\u001b[0m \u001b[38;5;28;01mdef\u001b[39;00m \u001b[38;5;21mfpgrowth\u001b[39m(df, min_support\u001b[38;5;241m=\u001b[39m\u001b[38;5;241m0.5\u001b[39m, use_colnames\u001b[38;5;241m=\u001b[39m\u001b[38;5;28;01mFalse\u001b[39;00m, max_len\u001b[38;5;241m=\u001b[39m\u001b[38;5;28;01mNone\u001b[39;00m, verbose\u001b[38;5;241m=\u001b[39m\u001b[38;5;241m0\u001b[39m):\n\u001b[0;32m     13\u001b[0m     \u001b[38;5;124;03m\"\"\"Get frequent itemsets from a one-hot DataFrame\u001b[39;00m\n\u001b[0;32m     14\u001b[0m \n\u001b[0;32m     15\u001b[0m \u001b[38;5;124;03m    Parameters\u001b[39;00m\n\u001b[1;32m   (...)\u001b[0m\n\u001b[0;32m     71\u001b[0m \n\u001b[0;32m     72\u001b[0m \u001b[38;5;124;03m    \"\"\"\u001b[39;00m\n\u001b[1;32m---> 73\u001b[0m     \u001b[43mfpc\u001b[49m\u001b[38;5;241;43m.\u001b[39;49m\u001b[43mvalid_input_check\u001b[49m\u001b[43m(\u001b[49m\u001b[43mdf\u001b[49m\u001b[43m)\u001b[49m\n\u001b[0;32m     75\u001b[0m     \u001b[38;5;28;01mif\u001b[39;00m min_support \u001b[38;5;241m<\u001b[39m\u001b[38;5;241m=\u001b[39m \u001b[38;5;241m0.0\u001b[39m:\n\u001b[0;32m     76\u001b[0m         \u001b[38;5;28;01mraise\u001b[39;00m \u001b[38;5;167;01mValueError\u001b[39;00m(\n\u001b[0;32m     77\u001b[0m             \u001b[38;5;124m\"\u001b[39m\u001b[38;5;124m`min_support` must be a positive \u001b[39m\u001b[38;5;124m\"\u001b[39m\n\u001b[0;32m     78\u001b[0m             \u001b[38;5;124m\"\u001b[39m\u001b[38;5;124mnumber within the interval `(0, 1]`. \u001b[39m\u001b[38;5;124m\"\u001b[39m\n\u001b[0;32m     79\u001b[0m             \u001b[38;5;124m\"\u001b[39m\u001b[38;5;124mGot \u001b[39m\u001b[38;5;132;01m%s\u001b[39;00m\u001b[38;5;124m.\u001b[39m\u001b[38;5;124m\"\u001b[39m \u001b[38;5;241m%\u001b[39m min_support\n\u001b[0;32m     80\u001b[0m         )\n",
      "File \u001b[1;32m~\\AppData\\Roaming\\Python\\Python310\\site-packages\\mlxtend\\frequent_patterns\\fpcommon.py:131\u001b[0m, in \u001b[0;36mvalid_input_check\u001b[1;34m(df)\u001b[0m\n\u001b[0;32m    126\u001b[0m val \u001b[38;5;241m=\u001b[39m values[\u001b[38;5;28mtuple\u001b[39m(loc[\u001b[38;5;241m0\u001b[39m] \u001b[38;5;28;01mfor\u001b[39;00m loc \u001b[38;5;129;01min\u001b[39;00m idxs)]\n\u001b[0;32m    127\u001b[0m s \u001b[38;5;241m=\u001b[39m (\n\u001b[0;32m    128\u001b[0m     \u001b[38;5;124m\"\u001b[39m\u001b[38;5;124mThe allowed values for a DataFrame\u001b[39m\u001b[38;5;124m\"\u001b[39m\n\u001b[0;32m    129\u001b[0m     \u001b[38;5;124m\"\u001b[39m\u001b[38;5;124m are True, False, 0, 1. Found value \u001b[39m\u001b[38;5;132;01m%s\u001b[39;00m\u001b[38;5;124m\"\u001b[39m \u001b[38;5;241m%\u001b[39m (val)\n\u001b[0;32m    130\u001b[0m )\n\u001b[1;32m--> 131\u001b[0m \u001b[38;5;28;01mraise\u001b[39;00m \u001b[38;5;167;01mValueError\u001b[39;00m(s)\n",
      "\u001b[1;31mValueError\u001b[0m: The allowed values for a DataFrame are True, False, 0, 1. Found value 2006"
     ]
    }
   ],
   "source": [
    "frequent_itemsets = fpgrowth(data, min_support=0.6, use_colnames=True)\n",
    "\n",
    "frequent_itemsets['support'] = frequent_itemsets['support'].round(2)\n",
    "\n",
    "frequent_itemsets"
   ]
  },
  {
   "cell_type": "code",
   "execution_count": null,
   "metadata": {},
   "outputs": [],
   "source": []
  }
 ],
 "metadata": {
  "kernelspec": {
   "display_name": "Python 3",
   "language": "python",
   "name": "python3"
  },
  "language_info": {
   "codemirror_mode": {
    "name": "ipython",
    "version": 3
   },
   "file_extension": ".py",
   "mimetype": "text/x-python",
   "name": "python",
   "nbconvert_exporter": "python",
   "pygments_lexer": "ipython3",
   "version": "3.10.4"
  }
 },
 "nbformat": 4,
 "nbformat_minor": 2
}
